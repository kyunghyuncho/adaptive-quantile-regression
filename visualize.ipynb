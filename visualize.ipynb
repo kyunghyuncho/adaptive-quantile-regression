{
 "cells": [
  {
   "cell_type": "markdown",
   "metadata": {},
   "source": [
    "# Adaptive Quantile Regression: Visualization\n",
    "\n",
    "This notebook loads the best-trained `QuantileRegressor` model and visualizes its performance on the test set. It performs the following steps:\n",
    "\n",
    "1.  **Load Configuration**: Reads the `config.yaml` file to ensure settings are consistent with the training run.\n",
    "2.  **Load Model**: Loads the best model checkpoint saved by PyTorch Lightning.\n",
    "3.  **Load Data**: Re-initializes the `PolynomialDataModule` to get access to the test dataset and the true polynomial coefficients.\n",
    "4.  **Generate Predictions**: For a set of specified quantiles (e.g., 0.05, 0.50, 0.95), it uses the model to predict the corresponding `y` values for the test `x` values.\n",
    "5.  **Plot Results**: Creates a comprehensive plot showing:\n",
    "    * The raw test data points (as a scatter plot).\n",
    "    * The true underlying polynomial function (as a dashed line).\n",
    "    * The predicted quantile curves (as solid lines)."
   ]
  },
  {
   "cell_type": "code",
   "execution_count": null,
   "metadata": {},
   "outputs": [],
   "source": [
    "import torch\n",
    "import pytorch_lightning as pl\n",
    "\n",
    "import numpy as np\n",
    "import yaml\n",
    "import matplotlib.pyplot as plt\n",
    "import glob\n",
    "import os\n",
    "\n",
    "# Import our custom modules\n",
    "from src.model import QuantileRegressor\n",
    "from src.data import PolynomialDataModule"
   ]
  },
  {
   "cell_type": "markdown",
   "metadata": {},
   "source": [
    "### 1. Load Configuration and Find Best Checkpoint"
   ]
  },
  {
   "cell_type": "code",
   "execution_count": null,
   "metadata": {},
   "outputs": [],
   "source": [
    "# Load the configuration file\n",
    "config_path = 'config.yaml'\n",
    "with open(config_path, 'r') as f:\n",
    "    config = yaml.safe_load(f)\n",
    "\n",
    "# Find the best model checkpoint automatically\n",
    "checkpoint_dir = config['training']['checkpoint_dir']\n",
    "list_of_files = glob.glob(os.path.join(checkpoint_dir, '*.ckpt'))\n",
    "if not list_of_files:\n",
    "    raise FileNotFoundError(f\"No checkpoint files found in '{checkpoint_dir}'. Please run train.py first.\")\n",
    "\n",
    "latest_file = max(list_of_files, key=os.path.getctime)\n",
    "checkpoint_path = latest_file\n",
    "\n",
    "print(f\"Loaded configuration from: {config_path}\")\n",
    "print(f\"Found best model checkpoint at: {checkpoint_path}\")"
   ]
  },
  {
   "cell_type": "markdown",
   "metadata": {},
   "source": [
    "### 2. Load Model and DataModule"
   ]
  },
  {
   "cell_type": "code",
   "execution_count": null,
   "metadata": {},
   "outputs": [],
   "source": [
    "# Load the trained model from the checkpoint\n",
    "model = QuantileRegressor.load_from_checkpoint(checkpoint_path)\n",
    "model.eval() # Set the model to evaluation mode (disables dropout, etc.)\n",
    "\n",
    "# Instantiate the DataModule with the same parameters used for training\n",
    "# This ensures we get the same data distribution and true function\n",
    "pl.seed_everything(config['seed']) # Use the same seed for reproducibility\n",
    "data_module = PolynomialDataModule(\n",
    "    degree=config['data']['degree'],\n",
    "    noise_scale=config['data']['noise_scale'],\n",
    "    n_samples=config['data']['n_samples'],\n",
    "    batch_size=config['training']['batch_size']\n",
    ")\n",
    "\n",
    "# The .setup() method generates the data and performs the train/val/test splits\n",
    "data_module.setup()\n",
    "\n",
    "# Get the test data tensors.\n",
    "# NOTE: random_split creates a 'Subset' object. We must access the\n",
    "# underlying .dataset and use the subset's .indices to get the correct data.\n",
    "full_dataset = data_module.test_dataset.dataset\n",
    "test_indices = data_module.test_dataset.indices\n",
    "test_x = full_dataset.tensors[0][test_indices]\n",
    "test_y = full_dataset.tensors[1][test_indices]"
   ]
  },
  {
   "cell_type": "markdown",
   "metadata": {},
   "source": [
    "### 3. Generate Predictions and Plot Results"
   ]
  },
  {
   "cell_type": "code",
   "execution_count": null,
   "metadata": {},
   "outputs": [],
   "source": [
    "# Set up the plot\n",
    "plt.style.use('seaborn-v0_8-whitegrid')\n",
    "fig, ax = plt.subplots(figsize=(12, 8))\n",
    "\n",
    "# 1. Plot the raw test data points\n",
    "ax.scatter(test_x, test_y, alpha=0.15, label='Test Data Points', color='gray', s=20)\n",
    "\n",
    "# Define the quantiles we want to visualize\n",
    "quantiles_to_plot = [0.05, 0.25, 0.50, 0.75, 0.95]\n",
    "colors = plt.cm.viridis(np.linspace(0.1, 0.9, len(quantiles_to_plot)))\n",
    "\n",
    "# For a clean line plot, we need to sort the x values\n",
    "sorted_indices = torch.argsort(test_x.squeeze())\n",
    "sorted_x = test_x[sorted_indices]\n",
    "\n",
    "# Move data to the same device as the model (e.g., 'cuda' or 'mps')\n",
    "device = model.device\n",
    "sorted_x = sorted_x.to(device)\n",
    "\n",
    "# 2. Generate and plot the predicted quantile lines\n",
    "with torch.no_grad(): # Deactivate autograd for faster inference\n",
    "    for i, q in enumerate(quantiles_to_plot):\n",
    "        # Create a tensor of the current quantile, ON THE CORRECT DEVICE\n",
    "        tau = torch.full((sorted_x.shape[0], 1), q, device=device)\n",
    "        \n",
    "        # Get model predictions\n",
    "        predictions = model(sorted_x, tau)\n",
    "        \n",
    "        # Plot the line (move predictions to CPU for numpy/matplotlib)\n",
    "        label = f'Predicted q={q:.2f}'\n",
    "        if q == 0.50:\n",
    "            label += ' (Median)'\n",
    "        ax.plot(sorted_x.cpu().numpy(), predictions.cpu().numpy(), label=label, color=colors[i], linewidth=2.5)\n",
    "\n",
    "# 3. Plot the true underlying function (without noise)\n",
    "x_range = config['data']['x_range']\n",
    "true_x_line = np.linspace(x_range[0], x_range[1], 400)\n",
    "true_y_line = np.polyval(data_module.coeffs, true_x_line)\n",
    "ax.plot(true_x_line, true_y_line, color='red', linestyle='--', linewidth=3, label='True Function (Ground Truth)')\n",
    "\n",
    "# Final plot styling\n",
    "ax.set_title('Adaptive Quantile Regression Results', fontsize=18, fontweight='bold')\n",
    "ax.set_xlabel('Input Feature (x)', fontsize=14)\n",
    "ax.set_ylabel('Output (y)', fontsize=14)\n",
    "ax.legend(fontsize=12)\n",
    "ax.set_ylim(test_y.min() - 5, test_y.max() + 5) # Adjust y-limits for better visibility\n",
    "plt.tight_layout()\n",
    "plt.show()"
   ]
  }
 ],
 "metadata": {
  "kernelspec": {
   "display_name": "Python 3",
   "language": "python",
   "name": "python3"
  },
  "language_info": {
   "codemirror_mode": {
    "name": "ipython",
    "version": 3
   },
   "file_extension": ".py",
   "mimetype": "text/x-python",
   "name": "python",
   "nbconvert_exporter": "python",
   "pygments_lexer": "ipython3",
   "version": "3.9.7"
  }
 },
 "nbformat": 4,
 "nbformat_minor": 4
}


